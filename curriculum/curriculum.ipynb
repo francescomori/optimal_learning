{
 "cells": [
  {
   "cell_type": "markdown",
   "id": "e0998ca2",
   "metadata": {},
   "source": [
    "# Optimal Curriculum Learning Schedule\n",
    "This notebook implements the optimal control framework for curriculum learning, corresponding to Section 3.1 of the paper *A statistical physics framework for optimal learning*.\n",
    "\n",
    "We determine optimal difficulty schedules by minimizing the generalization error using Pontrygin's Maximum Principle."
   ]
  },
  {
   "cell_type": "code",
   "execution_count": 16,
   "id": "8bb2242e",
   "metadata": {},
   "outputs": [],
   "source": [
    "import matplotlib.pyplot as plt\n",
    "import numpy as np\n",
    "import math\n",
    "from math import sqrt, pi, atan\n",
    "import time\n",
    "import sys"
   ]
  },
  {
   "cell_type": "code",
   "execution_count": 17,
   "id": "78014020",
   "metadata": {},
   "outputs": [],
   "source": [
    "def Power(x,i):\n",
    "    return x**i\n",
    "def Sqrt(x):\n",
    "    return np.sqrt(x)\n",
    "def ArcSin(x):\n",
    "    return np.arcsin(x)\n",
    "def ArcCos(x):\n",
    "    return np.arccos(x)\n",
    "def Abs(x):\n",
    "    return np.abs(x)\n",
    "Pi=np.pi"
   ]
  },
  {
   "cell_type": "code",
   "execution_count": 18,
   "id": "95ba9e05",
   "metadata": {},
   "outputs": [],
   "source": [
    "#forward dynamics\n",
    "def compute_update(x, eta,lamb, T, Delta):\n",
    "    Q11,Q22,  M = x\n",
    "    \n",
    "    fQ11=-(eta*lamb*Q11)+(4*eta*(-(Q11/Sqrt(1+Q11+Delta*Q22))+(M*(2+Delta*Q22))/Sqrt(-Power(M,2)+(2+Q11+Delta*Q22)*T)))/(Pi*(2+Q11+Delta*Q22))+(2*Power(eta,2)*(Pi/2.+ArcSin((Q11+Delta*Q22)/(2+3*(Q11+Delta*Q22)))-2*ArcSin(M/(Sqrt(2+3*(Q11+Delta*Q22))*Sqrt(-Power(M,2)+(1+Q11+Delta*Q22)*T)))))/(Power(Pi,2)*Sqrt(1+Q11+Delta*Q22))\n",
    "    fQ22=-(eta*lamb*Q22)-(4*Delta*eta*Q22*(1/Sqrt(1+Q11+Delta*Q22)+M/Sqrt(-Power(M,2)+(2+Q11+Delta*Q22)*T)))/(Pi*(2+Q11+Delta*Q22))+(Delta*Power(eta,2)*(Pi+2*ArcSin((Q11+Delta*Q22)/(2+3*Q11+3*Delta*Q22))-4*ArcSin(M/(Sqrt(2+3*Q11+3*Delta*Q22)*Sqrt(-Power(M,2)+T+Q11*T+Delta*Q22*T)))))/(Power(Pi,2)*Sqrt(1+Q11+Delta*Q22))\n",
    "    fM=-0.5*(eta*lamb*M)+(2*eta*(-(M/Sqrt(1+Q11+Delta*Q22))+Sqrt(-Power(M,2)+(2+Q11+Delta*Q22)*T)))/(Pi*(2+Q11+Delta*Q22))\n",
    "    \n",
    "    return np.array([fQ11, fQ22, fM])\n"
   ]
  },
  {
   "cell_type": "code",
   "execution_count": 19,
   "id": "60fbcd16",
   "metadata": {},
   "outputs": [],
   "source": [
    "#backward dynamics\n",
    "\n",
    "def compute_update_back(x,nu,eta,lamb, T, Delta):\n",
    "    Q11,Q22,  M = x\n",
    "    nuQ11, nuQ22,  nuM = nu\n",
    "    \n",
    "    Q11fQ11=-(eta*lamb)+(4*eta*(Q11/(2.*Power(1+Q11+Delta*Q22,1.5))-1/Sqrt(1+Q11+Delta*Q22)-(M*(2+Delta*Q22)*T)/(2.*Power(-Power(M,2)+(2+Q11+Delta*Q22)*T,1.5))))/(Pi*(2+Q11+Delta*Q22))-(4*eta*(-(Q11/Sqrt(1+Q11+Delta*Q22))+(M*(2+Delta*Q22))/Sqrt(-Power(M,2)+(2+Q11+Delta*Q22)*T)))/(Pi*Power(2+Q11+Delta*Q22,2))+(2*Power(eta,2)*(1/(Power(2+3*Q11+3*Delta*Q22,2)*Sqrt((1+2*Power(Q11,2)+3*Delta*Q22+2*Power(Delta,2)*Power(Q22,2)+Q11*(3+4*Delta*Q22))/Power(2+3*Q11+3*Delta*Q22,2)))+(-3*Power(M,3)+M*(5+6*Q11+6*Delta*Q22)*T)/(Power(2+3*Q11+3*Delta*Q22,1.5)*Power(-Power(M,2)+(1+Q11+Delta*Q22)*T,1.5)*Sqrt(1-Power(M,2)/((2+3*Q11+3*Delta*Q22)*(-Power(M,2)+(1+Q11+Delta*Q22)*T))))))/(Power(Pi,2)*Sqrt(1+Q11+Delta*Q22))-(Power(eta,2)*(Pi+2*ArcSin((Q11+Delta*Q22)/(2+3*Q11+3*Delta*Q22))-4*ArcSin(M/(Sqrt(2+3*Q11+3*Delta*Q22)*Sqrt(-Power(M,2)+T+Q11*T+Delta*Q22*T)))))/(2.*Power(Pi,2)*Power(1+Q11+Delta*Q22,1.5))\n",
    "    Q22fQ11=(eta*((-8*Delta*Pi*(-(Q11/Sqrt(1+Q11+Delta*Q22))+(M*(2+Delta*Q22))/Sqrt(-Power(M,2)+(2+Q11+Delta*Q22)*T)))/Power(2+Q11+Delta*Q22,2)+(4*Delta*Pi*(Q11/Power(1+Q11+Delta*Q22,1.5)+(-2*Power(M,3)+M*(2+2*Q11+Delta*Q22)*T)/Power(-Power(M,2)+(2+Q11+Delta*Q22)*T,1.5)))/(2+Q11+Delta*Q22)+(4*eta*(Delta/(Power(2+3*Q11+3*Delta*Q22,2)*Sqrt((1+2*Power(Q11,2)+3*Delta*Q22+2*Power(Delta,2)*Power(Q22,2)+Q11*(3+4*Delta*Q22))/Power(2+3*Q11+3*Delta*Q22,2)))+(Delta*M*(-3*Power(M,2)+(5+6*Q11+6*Delta*Q22)*T))/(Power(2+3*Q11+3*Delta*Q22,1.5)*Power(-Power(M,2)+(1+Q11+Delta*Q22)*T,1.5)*Sqrt(1-Power(M,2)/((2+3*Q11+3*Delta*Q22)*(-Power(M,2)+(1+Q11+Delta*Q22)*T))))))/Sqrt(1+Q11+Delta*Q22)-(Delta*eta*(Pi+2*ArcSin((Q11+Delta*Q22)/(2+3*Q11+3*Delta*Q22))-4*ArcSin(M/(Sqrt(2+3*Q11+3*Delta*Q22)*Sqrt(-Power(M,2)+T+Q11*T+Delta*Q22*T)))))/Power(1+Q11+Delta*Q22,1.5)))/(2.*Power(Pi,2))\n",
    "    MfQ11=(4*eta*T*((Pi*(2+Delta*Q22))/Power(-Power(M,2)+(2+Q11+Delta*Q22)*T,1.5)-(eta*Sqrt(1+Q11+Delta*Q22))/(Sqrt(2+3*Q11+3*Delta*Q22)*Power(-Power(M,2)+(1+Q11+Delta*Q22)*T,1.5)*Sqrt(1-Power(M,2)/((2+3*Q11+3*Delta*Q22)*(-Power(M,2)+(1+Q11+Delta*Q22)*T))))))/Power(Pi,2)\n",
    "    Q11fQ22=(Delta*eta*((4*Pi*Q22*(Power(1+Q11+Delta*Q22,-1.5)+(M*T)/Power(-Power(M,2)+(2+Q11+Delta*Q22)*T,1.5)))/(2+Q11+Delta*Q22)+(8*Pi*Q22*(1/Sqrt(1+Q11+Delta*Q22)+M/Sqrt(-Power(M,2)+(2+Q11+Delta*Q22)*T)))/Power(2+Q11+Delta*Q22,2)+(4*eta*(1/(Power(2+3*Q11+3*Delta*Q22,2)*Sqrt((1+2*Power(Q11,2)+3*Delta*Q22+2*Power(Delta,2)*Power(Q22,2)+Q11*(3+4*Delta*Q22))/Power(2+3*Q11+3*Delta*Q22,2)))+(-3*Power(M,3)+M*(5+6*Q11+6*Delta*Q22)*T)/(Power(2+3*Q11+3*Delta*Q22,1.5)*Power(-Power(M,2)+(1+Q11+Delta*Q22)*T,1.5)*Sqrt(1-Power(M,2)/((2+3*Q11+3*Delta*Q22)*(-Power(M,2)+(1+Q11+Delta*Q22)*T))))))/Sqrt(1+Q11+Delta*Q22)-(eta*(Pi+2*ArcSin((Q11+Delta*Q22)/(2+3*Q11+3*Delta*Q22))-4*ArcSin(M/(Sqrt(2+3*Q11+3*Delta*Q22)*Sqrt(-Power(M,2)+T+Q11*T+Delta*Q22*T)))))/Power(1+Q11+Delta*Q22,1.5)))/(2.*Power(Pi,2))\n",
    "    Q22fQ22=-(eta*lamb)+(2*Power(Delta,2)*eta*Q22*(Power(1+Q11+Delta*Q22,-1.5)+(M*T)/Power(-Power(M,2)+(2+Q11+Delta*Q22)*T,1.5)))/(Pi*(2+Q11+Delta*Q22))+(4*Power(Delta,2)*eta*Q22*(1/Sqrt(1+Q11+Delta*Q22)+M/Sqrt(-Power(M,2)+(2+Q11+Delta*Q22)*T)))/(Pi*Power(2+Q11+Delta*Q22,2))-(4*Delta*eta*(1/Sqrt(1+Q11+Delta*Q22)+M/Sqrt(-Power(M,2)+(2+Q11+Delta*Q22)*T)))/(Pi*(2+Q11+Delta*Q22))+(2*Delta*Power(eta,2)*(Delta/(Power(2+3*Q11+3*Delta*Q22,2)*Sqrt((1+2*Power(Q11,2)+3*Delta*Q22+2*Power(Delta,2)*Power(Q22,2)+Q11*(3+4*Delta*Q22))/Power(2+3*Q11+3*Delta*Q22,2)))+(Delta*M*(-3*Power(M,2)+(5+6*Q11+6*Delta*Q22)*T))/(Power(2+3*Q11+3*Delta*Q22,1.5)*Power(-Power(M,2)+(1+Q11+Delta*Q22)*T,1.5)*Sqrt(1-Power(M,2)/((2+3*Q11+3*Delta*Q22)*(-Power(M,2)+(1+Q11+Delta*Q22)*T))))))/(Power(Pi,2)*Sqrt(1+Q11+Delta*Q22))-(Power(Delta,2)*Power(eta,2)*(Pi+2*ArcSin((Q11+Delta*Q22)/(2+3*Q11+3*Delta*Q22))-4*ArcSin(M/(Sqrt(2+3*Q11+3*Delta*Q22)*Sqrt(-Power(M,2)+T+Q11*T+Delta*Q22*T)))))/(2.*Power(Pi,2)*Power(1+Q11+Delta*Q22,1.5))\n",
    "    MfQ22=(4*Delta*eta*T*(-((Pi*Q22)/Power(-Power(M,2)+(2+Q11+Delta*Q22)*T,1.5))-(eta*Sqrt(1+Q11+Delta*Q22))/(Sqrt(2+3*Q11+3*Delta*Q22)*Power(-Power(M,2)+(1+Q11+Delta*Q22)*T,1.5)*Sqrt(1-Power(M,2)/((2+3*Q11+3*Delta*Q22)*(-Power(M,2)+(1+Q11+Delta*Q22)*T))))))/Power(Pi,2)\n",
    "    Q11fM=(2*eta*(M/Sqrt(1+Q11+Delta*Q22)-Sqrt(-Power(M,2)+(2+Q11+Delta*Q22)*T)+((2+Q11+Delta*Q22)*(M/Power(1+Q11+Delta*Q22,1.5)+T/Sqrt(-Power(M,2)+(2+Q11+Delta*Q22)*T)))/2.))/(Pi*Power(2+Q11+Delta*Q22,2))\n",
    "    Q22fM=(2*eta*((Delta*M)/Sqrt(1+Q11+Delta*Q22)-Delta*Sqrt(-Power(M,2)+(2+Q11+Delta*Q22)*T)+(Delta*(2+Q11+Delta*Q22)*(M/Power(1+Q11+Delta*Q22,1.5)+T/Sqrt(-Power(M,2)+(2+Q11+Delta*Q22)*T)))/2.))/(Pi*Power(2+Q11+Delta*Q22,2))\n",
    "    MfM=-0.5*(eta*lamb)+(2*eta*(-(1/Sqrt(1+Q11+Delta*Q22))-M/Sqrt(-Power(M,2)+(2+Q11+Delta*Q22)*T)))/(Pi*(2+Q11+Delta*Q22))\n",
    " \n",
    "    return np.array([nuQ11*Q11fQ11+nuQ22*Q11fQ22+nuM*Q11fM,nuQ11*Q22fQ11+nuQ22*Q22fQ22+nuM*Q22fM,nuQ11*MfQ11+nuQ22*MfQ22+nuM*MfM])"
   ]
  },
  {
   "cell_type": "code",
   "execution_count": 20,
   "id": "20564904",
   "metadata": {},
   "outputs": [],
   "source": [
    "def damping(new,old,coef=0.4):\n",
    "    return coef*old+(1-coef)*new"
   ]
  },
  {
   "cell_type": "code",
   "execution_count": 21,
   "id": "84aa766c",
   "metadata": {},
   "outputs": [],
   "source": [
    "#Hamiltonian of PMP\n",
    "def H(x,nu,eta,lamb,T,Delta):\n",
    "    nuQr, nuQi,  nuR = nu\n",
    "    fQr, fQi, fR=compute_update(x, eta,lamb, T, Delta)\n",
    "    return nuQr*fQr+nuQi*fQi+nuR*fR"
   ]
  },
  {
   "cell_type": "code",
   "execution_count": 22,
   "id": "9b9bde03",
   "metadata": {},
   "outputs": [],
   "source": [
    "#Optimality condition\n",
    "def compute_Delta_discrete(xs,nus,etas,lambs,T,N1=0,Delta1=0,Delta2=1):\n",
    "    \n",
    " \n",
    "    ret_delta=np.ones(len(xs))\n",
    "    \n",
    "    DeltaH=[H(xs[i],nus[i],etas[i],lambs[i],T,Delta2)-H(xs[i],nus[i],etas[i],lambs[i],T,Delta1) for i in range(len(xs))]\n",
    "\n",
    "    indeces=np.argsort(DeltaH)[-N1:]\n",
    "\n",
    "    ret_delta=np.ones(len(xs))*Delta2\n",
    "    ret_delta[indeces]=Delta1\n",
    "    \n",
    "    return ret_delta"
   ]
  },
  {
   "cell_type": "code",
   "execution_count": 23,
   "id": "c264d7e2",
   "metadata": {},
   "outputs": [],
   "source": [
    "#final condition of the backward dynamics\n",
    "def compute_nu_final(xf,T,Delta1,Delta2,p1):\n",
    "    \n",
    "    \n",
    "    Q11,Q22,M = xf\n",
    "    \n",
    "    Delta=Delta1\n",
    "    Q11gen1=(M*T)/(2.*Pi*Power((Q11 + Delta*Q22)*T,1.5)*Sqrt(1 - Power(M,2)/(Q11*T + Delta*Q22*T)))\n",
    "    Q22gen1=(Delta*M*T)/(2.*Pi*Power((Q11 + Delta*Q22)*T,1.5)*Sqrt(1 - Power(M,2)/(Q11*T + Delta*Q22*T)))\n",
    "    Mgen1=-(1/(Pi*Sqrt((Q11 + Delta*Q22)*T)*Sqrt(1 - Power(M,2)/(Q11*T + Delta*Q22*T))))\n",
    "    \n",
    "    Delta=Delta2\n",
    "    Q11gen2=(M*T)/(2.*Pi*Power((Q11 + Delta*Q22)*T,1.5)*Sqrt(1 - Power(M,2)/(Q11*T + Delta*Q22*T)))\n",
    "    Q22gen2=(Delta*M*T)/(2.*Pi*Power((Q11 + Delta*Q22)*T,1.5)*Sqrt(1 - Power(M,2)/(Q11*T + Delta*Q22*T)))\n",
    "    Mgen2=-(1/(Pi*Sqrt((Q11 + Delta*Q22)*T)*Sqrt(1 - Power(M,2)/(Q11*T + Delta*Q22*T))))\n",
    "    \n",
    "    \n",
    "    return [Q11gen1*p1+Q11gen2*(1-p1),Q22gen1*p1+Q22gen2*(1-p1),Mgen1*p1+Mgen2*(1-p1)]"
   ]
  },
  {
   "cell_type": "code",
   "execution_count": 24,
   "id": "d62fa913",
   "metadata": {},
   "outputs": [],
   "source": [
    "#generalization error\n",
    "def compute_generalization(x,T,Delta1,Delta2,p1):\n",
    "    Qr,Qi,R = x\n",
    "\n",
    "    return p1*ArcCos(R/Sqrt((Delta1*Qi + Qr)*T))/Pi+(1-p1)*ArcCos(R/Sqrt((Delta2*Qi + Qr)*T))/Pi"
   ]
  },
  {
   "cell_type": "code",
   "execution_count": 25,
   "id": "4b31f993",
   "metadata": {},
   "outputs": [],
   "source": [
    "\n",
    "def integrate_forward(xs,errors,etas,lambs,Deltas,epochs,dt,Delta1,Delta2,p1,T):\n",
    "    # Euler method\n",
    "    errors[0]=compute_generalization(xs[0],T,Delta1,Delta2,p1)\n",
    "    for a in range(epochs):\n",
    "        xs[a+1]=xs[a]+dt*compute_update(xs[a], etas[a],lambs[a], T, Deltas[a])\n",
    "        errors[a+1]=compute_generalization(xs[a+1],T,Delta1,Delta2,p1)\n",
    "    return xs, errors"
   ]
  },
  {
   "cell_type": "code",
   "execution_count": 26,
   "id": "869323e1",
   "metadata": {},
   "outputs": [],
   "source": [
    "def integrate_backward(xs,nus,etas,lambs,Deltas,epochs,dt,Delta1,Delta2,p1,T):\n",
    "    nus[0]=compute_nu_final(xs[-1],T,Delta1,Delta2,p1)\n",
    "    for a in range(epochs):\n",
    "        nus[a+1]=nus[a]+dt*compute_update_back(xs[-a-1],nus[a],etas[-a-1],lambs[-a-1], T, Deltas[-a-1])\n",
    "    return np.flip(nus,axis=0)"
   ]
  },
  {
   "cell_type": "code",
   "execution_count": 27,
   "id": "fb014771",
   "metadata": {},
   "outputs": [],
   "source": [
    "#forward-backward sweep method\n",
    "\n",
    "def iterate_equations(x0,T,epochs,dt,Deltas,etas,lambs,N1=0,Delta1=0,Delta2=1,max_iter=1000,coef=0.5,tol=10**(-6),printing=True):\n",
    "    \n",
    "\n",
    "    \n",
    "    nus=np.zeros((epochs+1,3))\n",
    "    xs=np.zeros((epochs+1,3))\n",
    "    errors=np.zeros(epochs+1)\n",
    "    \n",
    "\n",
    "    nus_tmp=np.zeros((epochs+1,3))\n",
    "    xs_tmp=np.zeros((epochs+1,3))\n",
    "\n",
    "\n",
    "    final_error=[]\n",
    "    \n",
    "    xs[0]=x0\n",
    "    xs_tmp[0]=x0\n",
    "    p1=N1/len(xs)\n",
    "\n",
    "    #Forward iteration \n",
    "    xs, errors=integrate_forward(xs,errors,etas,lambs,Deltas,epochs,dt,Delta1,Delta2,p1,T)\n",
    "    #Backward iteration \n",
    "    nus=integrate_backward(xs,nus,etas,lambs,Deltas,epochs,dt,Delta1,Delta2,p1,T)\n",
    "\n",
    "    for it in range(max_iter):\n",
    "    \n",
    "        Delta_tmp=compute_Delta_discrete(xs,nus,etas,lambs,T,N1,Delta1,Delta2)\n",
    "\n",
    "        #Forward iteration \n",
    "        xs_tmp, errors=integrate_forward(xs_tmp,errors,etas,lambs,Delta_tmp,epochs,dt,Delta1,Delta2,p1,T)\n",
    "        #Backward iteration \n",
    "        nus_tmp=integrate_backward(xs_tmp,nus_tmp,etas,lambs,Delta_tmp,epochs,dt,Delta1,Delta2,p1,T)\n",
    "        \n",
    "        #Update sigma\n",
    "        convergence_error=np.mean((xs_tmp-xs)**2)+np.mean((nus_tmp-nus)**2)\n",
    "        \n",
    "        Deltas=Delta_tmp.copy()\n",
    "\n",
    "        xs=damping(xs_tmp,xs,coef)\n",
    "        nus=damping(nus_tmp,nus,coef)\n",
    "\n",
    "     \n",
    "        final_error.append(errors[-1])\n",
    "    \n",
    "        if printing:\n",
    "            sys.stdout.write(\"\\r Step {}/{} done! Convergence error={:.10f} Generalization error={:.10f} \".format(it,max_iter,convergence_error,errors[-1]))\n",
    "            sys.stdout.flush()\n",
    "            \n",
    "        if tol>=convergence_error:\n",
    "            break\n",
    "            \n",
    "        if it>max_iter/10:\n",
    "            coef=0.999\n",
    "    if tol<convergence_error:\n",
    "        print(\"Error: not converged\")\n",
    "    return xs,nus,Deltas,etas,final_error,convergence_error"
   ]
  },
  {
   "cell_type": "code",
   "execution_count": 28,
   "id": "94bcaa98",
   "metadata": {},
   "outputs": [],
   "source": [
    "alphaF=12 #total time\n",
    "dt=0.05 #integration step\n",
    "epochs=int(alphaF/dt)\n",
    "lamb=0 #regularization\n",
    "eta=3 #learning rate\n",
    "Delta1=0 #easy noise level\n",
    "Delta2=2 #hard noise level\n",
    "p1=0.5 #fraction of easy examples"
   ]
  },
  {
   "cell_type": "code",
   "execution_count": 29,
   "id": "290f847b",
   "metadata": {},
   "outputs": [],
   "source": [
    "#PMP hyperparameters\n",
    "coef=0.99 #damping coefficient\n",
    "max_iter=10000 #maximum number of iterations\n",
    "tol=10**(-4) #tolerance\n",
    "printing=True"
   ]
  },
  {
   "cell_type": "code",
   "execution_count": 30,
   "id": "ffe08700",
   "metadata": {},
   "outputs": [
    {
     "name": "stdout",
     "output_type": "stream",
     "text": [
      " Step 399/10000 done! Convergence error=0.0000967432 Generalization error=0.1466824690 "
     ]
    }
   ],
   "source": [
    "np.random.seed(2)\n",
    "N1=int(epochs*p1)\n",
    "T=2 #norm of teacher weights\n",
    "x0=[1,1,0] #initial condition \n",
    "etas=np.ones(epochs+1)*eta\n",
    "lambs=np.ones(epochs+1)*lamb\n",
    "Deltas=np.ones(epochs+1)*Delta2\n",
    "Deltas[:N1]=Delta1\n",
    "np.random.shuffle(Deltas)\n",
    "t_init=time.time()\n",
    "[xs,nus,Deltas,etas,final_error,convergence_error]=iterate_equations(x0,T,epochs,dt,Deltas,etas,lambs,N1=N1,Delta1=Delta1,Delta2=Delta2,max_iter=max_iter,coef=coef,tol=tol,printing=printing)"
   ]
  },
  {
   "cell_type": "code",
   "execution_count": 31,
   "id": "48907185-5398-4bdd-9b28-f9ee4a623564",
   "metadata": {},
   "outputs": [],
   "source": [
    "#Evaluate optimal strategy\n",
    "xs=np.zeros((epochs+1,3))\n",
    "xs[0]=x0\n",
    "errors=np.zeros(epochs+1)\n",
    "Deltas_opt=[round(d) for d in Deltas]\n",
    "xs, errors=integrate_forward(xs,errors,etas,lambs,Deltas_opt,epochs,dt,Delta1,Delta2,p1,T)\n",
    "\n",
    "#Evaluate easy-to-hard curriculum\n",
    "xs=np.zeros((epochs+1,3))\n",
    "errors_curr=np.zeros(epochs+1)\n",
    "xs[0]=x0\n",
    "\n",
    "Deltas_curr = [\n",
    "    Delta1 if i < epochs/2 else Delta2\n",
    "    for i in range(epochs)]\n",
    "xs, errors_curr=integrate_forward(xs,errors_curr,etas,lambs,Deltas_curr,epochs,dt,Delta1,Delta2,p1,T)\n",
    "\n",
    "#Evaluate hard-to-easy curriculum\n",
    "xs=np.zeros((epochs+1,3))\n",
    "errors_anticurr=np.zeros(epochs+1)\n",
    "xs[0]=x0\n",
    "Deltas_anticurr = [\n",
    "    Delta2 if i < epochs/2 else Delta1\n",
    "    for i in range(epochs)]\n",
    "xs, errors_anticurr=integrate_forward(xs,errors_anticurr,etas,lambs,Deltas_anticurr,epochs,dt,Delta1,Delta2,p1,T)"
   ]
  },
  {
   "cell_type": "markdown",
   "id": "9889dafc",
   "metadata": {},
   "source": [
    "## Results and Visualization"
   ]
  },
  {
   "cell_type": "code",
   "execution_count": 33,
   "id": "7068ad46",
   "metadata": {},
   "outputs": [],
   "source": [
    "alphas=np.linspace(0,alphaF,epochs+1)"
   ]
  },
  {
   "cell_type": "code",
   "execution_count": 34,
   "id": "f04bbeb0-5589-4885-be57-96d0faec02f7",
   "metadata": {},
   "outputs": [
    {
     "data": {
      "text/plain": [
       "<matplotlib.legend.Legend at 0x11750e9c0>"
      ]
     },
     "execution_count": 34,
     "metadata": {},
     "output_type": "execute_result"
    },
    {
     "data": {
      "image/png": "[encoded data removed]",
      "text/plain": [
       "<Figure size 640x480 with 1 Axes>"
      ]
     },
     "metadata": {},
     "output_type": "display_data"
    }
   ],
   "source": [
    "plt.plot(alphas,errors,label=\"Optimal\")\n",
    "plt.plot(alphas,errors_curr,label=\"Curriculum\")\n",
    "plt.plot(alphas,errors_anticurr,label=\"Anti-Curriculum\")\n",
    "plt.yscale(\"log\")\n",
    "plt.xlabel(r\"$\\alpha$\",fontsize=20)\n",
    "plt.ylabel(r\"Generalization error\",fontsize=20)\n",
    "plt.legend(fontsize=20)"
   ]
  }
 ],
 "metadata": {
  "kernelspec": {
   "display_name": "base",
   "language": "python",
   "name": "python3"
  },
  "language_info": {
   "codemirror_mode": {
    "name": "ipython",
    "version": 3
   },
   "file_extension": ".py",
   "mimetype": "text/x-python",
   "name": "python",
   "nbconvert_exporter": "python",
   "pygments_lexer": "ipython3",
   "version": "3.12.2"
  }
 },
 "nbformat": 4,
 "nbformat_minor": 5
}
