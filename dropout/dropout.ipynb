{
 "cells": [
  {
   "cell_type": "markdown",
   "id": "182d00af-25d3-4ae4-b113-a539a2b71b73",
   "metadata": {},
   "source": [
    "# Optimal Dropout Schedules for Two-Layer Networks"
   ]
  },
  {
   "cell_type": "code",
   "execution_count": 22,
   "id": "e82d21c9-0d9f-4eb3-acc8-7122c87e73d6",
   "metadata": {},
   "outputs": [],
   "source": [
    "import numpy as np\n",
    "import casadi\n",
    "from casadi import *\n",
    "import matplotlib.pyplot as plt\n",
    "from numpy.random import normal\n",
    "from tqdm import tqdm\n",
    "import time\n",
    "import pickle"
   ]
  },
  {
   "cell_type": "markdown",
   "id": "120c5414",
   "metadata": {},
   "source": [
    "## Auxiliary functions"
   ]
  },
  {
   "cell_type": "code",
   "execution_count": 23,
   "id": "fa8c990b-840d-4151-8cca-3e42805266c9",
   "metadata": {},
   "outputs": [],
   "source": [
    "def J2(C):\n",
    "    c12=C[0][1]\n",
    "    c11=C[0][0]\n",
    "    c22=C[1][1]\n",
    "    return (2/pi)/sqrt(1+c11+c22+c11*c22-c12**2)\n",
    "\n",
    "def I2(C):\n",
    "    c12=C[0][1]\n",
    "    c11=C[0][0]\n",
    "    c22=C[1][1]\n",
    "    return asin(c12/(sqrt(1+c11)*sqrt(1+c22)))/pi\n",
    "\n",
    "\n",
    "def I3(C):\n",
    "    c12=C[0][1]\n",
    "    c11=C[0][0]\n",
    "    c22=C[1][1]\n",
    "    c13=C[0][2]\n",
    "    c23=C[1][2]\n",
    "    c33=C[2][2]\n",
    "\n",
    "    Lambda3=(1+c11)*(1+c33)-c13**2\n",
    "\n",
    "    return (2/pi)*(1/sqrt(Lambda3))*(c23*(1+c11)-c12*c13)/(1+c11)\n",
    "\n",
    "def I4(C):\n",
    "    c12=C[0][1]\n",
    "    c11=C[0][0]\n",
    "    c22=C[1][1]\n",
    "    c13=C[0][2]\n",
    "    c23=C[1][2]\n",
    "    c33=C[2][2]\n",
    "    c14=C[0][3]\n",
    "    c24=C[1][3]\n",
    "    c34=C[2][3]\n",
    "    c44=C[3][3]\n",
    "\n",
    "    Lambda4=(1+c11)*(1+c22)-c12**2\n",
    "\n",
    "    Lambda0=Lambda4*c34-c23*c24*(1+c11)-c13*c14*(1+c22)+c12*c13*c24+c12*c14*c23\n",
    "    Lambda1=Lambda4*(1+c33)-c23**2*(1+c11)-c13**2*(1+c22)+2*c12*c13*c23\n",
    "    Lambda2=Lambda4*(1+c44)-c24**2*(1+c11)-c14**2*(1+c22)+2*c12*c14*c24\n",
    "\n",
    "    return (4/pi**2)*(1/sqrt(Lambda4))*asin(Lambda0/sqrt(Lambda1*Lambda2))\n",
    "    \n",
    "def compute_mse(Q,R,T,v,vs,p):\n",
    "    K,M=R.size()[0],R.size()[1]\n",
    "    ret=MX(0)\n",
    "    for i in range(K):\n",
    "        for j in range(K):\n",
    "            ret+=0.5*p**2*v[i]*v[j]*I2([[Q[i,i],Q[i,j]],[Q[j,i],Q[j,j]]])\n",
    "\n",
    "\n",
    "    for n in range(M):\n",
    "        for m in range(M):\n",
    "            ret+=0.5*vs[n]*vs[m]*I2([[T[n,n],T[n,m]],[T[m,n],T[m,m]]])\n",
    "\n",
    "    for i in range(K):\n",
    "        for n in range(M):\n",
    "            ret-=p*v[i]*vs[n]*I2([[Q[i,i],R[i,n]],[R[i,n],T[n,n]]])\n",
    "    return ret\n",
    "    "
   ]
  },
  {
   "cell_type": "code",
   "execution_count": 24,
   "id": "f8b93968-b065-4b7e-95fd-5a91b099577e",
   "metadata": {},
   "outputs": [],
   "source": [
    "K=2 #number of student hidden nodes\n",
    "M=1 #number of teacher hidden nodes\n",
    "Q = MX.sym('Q', K, K)  #st-st overlap\n",
    "R = MX.sym('R', K, M)  #st-th overlap\n",
    "T = MX.sym('T', M, M)  #th-th overlap\n",
    "v = MX.sym('v', K)  #student readout weights\n",
    "vs = MX.sym('vs', M) #teacher readout weights\n",
    "p= MX.sym('p', 1) #activation probability\n",
    "mse_sym = compute_mse(Q,R,T,v,vs,p)\n",
    "mse_func = Function('mse_func', [Q,R,T,v,vs,p], [mse_sym])"
   ]
  },
  {
   "cell_type": "code",
   "execution_count": 25,
   "id": "2338c5ba-2f7b-4531-b5e3-4d80869a2bd5",
   "metadata": {},
   "outputs": [
    {
     "name": "stdout",
     "output_type": "stream",
     "text": [
      "0.084238\n"
     ]
    }
   ],
   "source": [
    "#initial conditions\n",
    "np.random.seed(1974)\n",
    "N=10000 #input dimension\n",
    "ws=normal(0,1.,size=(M,N))/np.sqrt(N)\n",
    "whs=normal(0,1,size=(K,N))/np.sqrt(N)\n",
    "whs=0*whs\n",
    "Q0=whs@whs.T\n",
    "R0=whs@ws.T\n",
    "T0=ws@ws.T\n",
    "v0=np.ones(K)\n",
    "vs=np.ones(M)\n",
    "p0=0.7\n",
    "print(mse_func(Q0,R0,T0,v0,vs,p0))"
   ]
  },
  {
   "cell_type": "code",
   "execution_count": 26,
   "id": "7eea71e9-f8e4-48fc-b118-df5c552fdabf",
   "metadata": {},
   "outputs": [],
   "source": [
    "alphaF = 5 # Total training time\n",
    "N_control = 50 # number of control intervals\n",
    "L=MX(0)\n",
    "alphas=np.linspace(0,alphaF,N_control+1)"
   ]
  },
  {
   "cell_type": "code",
   "execution_count": 27,
   "id": "ec2bb07a-c013-4fb1-9dc8-926c44f2e4ab",
   "metadata": {},
   "outputs": [],
   "source": [
    "O = MX.sym('O',K*K+K*M+K)\n",
    "Q, R, v = O[:K*K], O[K*K:K*K+K*M],O[K*K+K*M:]\n",
    "Q = reshape(Q, K, K)\n",
    "R = reshape(R, K, M)\n",
    "r = MX.sym('U',1)\n"
   ]
  },
  {
   "cell_type": "code",
   "execution_count": 28,
   "id": "2e3a1d7a-d643-4c8f-ae72-530704948b18",
   "metadata": {},
   "outputs": [],
   "source": [
    "T=np.eye(M) #teacher-teacher overlap\n",
    "vs=np.ones(M) #\n",
    "eta,sigma,eta_v=1,0.2,0"
   ]
  },
  {
   "cell_type": "code",
   "execution_count": 29,
   "id": "ebe8a7ef-d911-4bff-b6a9-be3bebfd8d51",
   "metadata": {},
   "outputs": [],
   "source": [
    "dQ=MX.zeros(K,K)\n",
    "dR=MX.zeros(K,M)\n",
    "dv=MX.zeros(K)\n",
    "\n",
    "for i in range(K):\n",
    "    for n in range(M):\n",
    "        for m in range(M):\n",
    "            dR[i,n]+=eta*r*v[i]*vs[m]*I3([[Q[i,i],R[i,n],R[i,m]],[R[i,n],T[n,n],T[n,m]],[R[i,m],T[m,n],T[m,m]]])\n",
    "        for j in range(K):\n",
    "            if j!=i:\n",
    "                dR[i,n]-=eta*r*r*v[i]*v[j]*I3([[Q[i,i],R[i,n],Q[i,j]],[R[i,n],T[n,n],R[j,n]],[Q[i,j],R[j,n],Q[j,j]]])\n",
    "            else:\n",
    "                dR[i,n]-=eta*r*v[i]*v[j]*I3([[Q[i,i],R[i,n],Q[i,j]],[R[i,n],T[n,n],R[j,n]],[Q[i,j],R[j,n],Q[j,j]]])\n",
    "                                    \n",
    "for i in range(K):\n",
    "    for k in range(K):\n",
    "        for m in range(M):\n",
    "            dQ[i,k]+=eta*r*v[i]*vs[m]*I3([[Q[i,i],Q[i,k],R[i,m]],[Q[i,k],Q[k,k],R[k,m]],[R[i,m],R[k,m],T[m,m]]])\n",
    "            dQ[i,k]+=eta*r*v[k]*vs[m]*I3([[Q[k,k],Q[k,i],R[k,m]],[Q[i,k],Q[i,i],R[i,m]],[R[k,m],R[i,m],T[m,m]]])\n",
    "        for j in range(K):\n",
    "            if j!=i:\n",
    "                dQ[i,k]-=eta*r*r*v[i]*v[j]*I3([[Q[i,i],Q[i,k],Q[i,j]],[Q[i,k],Q[k,k],Q[k,j]],[Q[i,j],Q[k,j],Q[j,j]]])\n",
    "            else:\n",
    "                dQ[i,k]-=eta*r*v[i]*v[j]*I3([[Q[i,i],Q[i,k],Q[i,j]],[Q[i,k],Q[k,k],Q[k,j]],[Q[i,j],Q[k,j],Q[j,j]]])\n",
    "            if j!=k:\n",
    "                dQ[i,k]-=eta*r*r*v[k]*v[j]*I3([[Q[k,k],Q[k,i],Q[k,j]],[Q[k,i],Q[i,i],Q[i,j]],[Q[k,j],Q[i,j],Q[j,j]]])\n",
    "            else:\n",
    "                dQ[i,k]-=eta*r*v[k]*v[j]*I3([[Q[k,k],Q[k,i],Q[k,j]],[Q[k,i],Q[i,i],Q[i,j]],[Q[k,j],Q[i,j],Q[j,j]]])\n",
    "                \n",
    "for i in range(K):\n",
    "    for k in range(K):\n",
    "        dQtmp=MX(0)\n",
    "            \n",
    "        for n in range(M):\n",
    "            for m in range(M):\n",
    "                if i==k:\n",
    "                    dQtmp+=r*v[i]*v[k]*vs[n]*vs[m]*I4([[Q[i,i],Q[i,k],R[i,n],R[i,m]],[Q[k,i],Q[k,k],R[k,n],R[k,m]],[R[i,n],R[k,n],T[n,n],T[n,m]],[R[i,m],R[k,m],T[m,n],T[m,m]]])\n",
    "                else:    \n",
    "                    dQtmp+=r*r*v[i]*v[k]*vs[n]*vs[m]*I4([[Q[i,i],Q[i,k],R[i,n],R[i,m]],[Q[k,i],Q[k,k],R[k,n],R[k,m]],[R[i,n],R[k,n],T[n,n],T[n,m]],[R[i,m],R[k,m],T[m,n],T[m,m]]])\n",
    "        \n",
    "        for j in range(K):\n",
    "            for n in range(M):\n",
    "                factor=r\n",
    "                if i!=k:\n",
    "                    factor=factor*r\n",
    "                if j!=i and j!=k:\n",
    "                    factor=factor*r\n",
    "                dQtmp-=factor*2*v[i]*v[k]*v[j]*vs[n]*I4([[Q[i,i],Q[i,k],Q[i,j],R[i,n]],[Q[k,i],Q[k,k],Q[k,j],R[k,n]],[Q[j,i],Q[j,k],Q[j,j],R[j,n]],[R[i,n],R[k,n],R[j,n],T[n,n]]])\n",
    "\n",
    "        for j in range(K):\n",
    "            for l in range(K):\n",
    "                factor=r\n",
    "                if i!=k:\n",
    "                    factor=factor*r\n",
    "                if j!=i and j!=k:\n",
    "                    factor=factor*r\n",
    "                if l!=i and l!=k and l!=j:\n",
    "                    factor=factor*r\n",
    "                dQtmp+=factor*v[i]*v[k]*v[j]*v[l]*I4([[Q[i,i],Q[i,k],Q[i,j],Q[i,l]],[Q[k,i],Q[k,k],Q[k,j],Q[k,l]],[Q[j,i],Q[j,k],Q[j,j],Q[j,l]],[Q[i,l],Q[k,l],Q[j,l],Q[l,l]]])\n",
    "        if i==k:\n",
    "            dQ[i,k]+=eta**2*r*v[i]*v[k]*sigma**2*J2([[Q[i,i],Q[i,k]],[Q[k,i],Q[k,k]]])\n",
    "        else:\n",
    "            dQ[i,k]+=eta**2*r*r*v[i]*v[k]*sigma**2*J2([[Q[i,i],Q[i,k]],[Q[k,i],Q[k,k]]])\n",
    "        \n",
    "        dQ[i,k]+=eta**2*dQtmp\n",
    "        \n",
    "dQ=0.5*(dQ+dQ.T)\n",
    "\n",
    "\n",
    "for i in range(K):\n",
    "    for n in range(M):\n",
    "        dv[i]+=eta_v*r*vs[n]*I2([[Q[i,i],R[i,n]],[R[i,n],T[n,n]]])\n",
    "    for j in range(K):\n",
    "        if j==i:\n",
    "            dv[i]-=eta_v*r*v[j]*I2([[Q[i,i],Q[i,j]],[Q[i,j],Q[j,j]]])\n",
    "        else:\n",
    "            dv[i]-=eta_v*r*r*v[j]*I2([[Q[i,i],Q[i,j]],[Q[i,j],Q[j,j]]])\n"
   ]
  },
  {
   "cell_type": "code",
   "execution_count": 30,
   "id": "2d9d75b6-5fba-47b6-8618-b0f6e2548885",
   "metadata": {},
   "outputs": [],
   "source": [
    "# Model equations\n",
    "# Flatten dR and dQ\n",
    "dQ_flat = reshape(dQ, K * K, 1)  # Column-major order (column by column)\n",
    "dR_flat = reshape(dR, K * M, 1)  # Column-major order (column by column)\n",
    "\n",
    "# Concatenate M_flat and Q_flat into a single vector\n",
    "xdot = vertcat(dQ_flat,dR_flat,dv)"
   ]
  },
  {
   "cell_type": "code",
   "execution_count": 31,
   "id": "13bef94b-81b1-4468-9d11-b0f30435b9e4",
   "metadata": {},
   "outputs": [],
   "source": [
    "dae = {'x':O, 'p':r, 'ode':xdot, 'quad':L}\n",
    "F = integrator('F', 'cvodes', dae, 0, alphaF/N_control)"
   ]
  },
  {
   "cell_type": "code",
   "execution_count": 32,
   "id": "c9b05efc-3780-4821-8bdf-dded2ddbf7ea",
   "metadata": {},
   "outputs": [
    {
     "name": "stdout",
     "output_type": "stream",
     "text": [
      "[0.00237012, 0.000252981, 0.000252981, 0.00237012, 0.00448323, 0.00448323, 1, 1]\n",
      "0\n"
     ]
    }
   ],
   "source": [
    "# Evaluate at a test point\n",
    "Q0flat=Q0.flatten(order='F')\n",
    "R0flat=R0.flatten(order='F')\n",
    "O0=np.concatenate((Q0flat, R0flat, v0)).tolist()\n",
    "p0=np.ones(K)*0.1\n",
    "Fk = F(x0=O0,p=0.1)\n",
    "print(Fk['xf'])\n",
    "print(Fk['qf'])"
   ]
  },
  {
   "cell_type": "code",
   "execution_count": 33,
   "id": "32d74f79-80b2-442f-a7b9-69b11c8b7fb9",
   "metadata": {},
   "outputs": [],
   "source": [
    "# Start with an empty NLP\n",
    "w=[]\n",
    "w0 = []\n",
    "lbw = []\n",
    "ubw = []\n",
    "J = 0\n",
    "g=[]\n",
    "lbg = []\n",
    "ubg = []"
   ]
  },
  {
   "cell_type": "code",
   "execution_count": 34,
   "id": "d43fd9cd-8426-442e-9979-326ca65d4538",
   "metadata": {},
   "outputs": [],
   "source": [
    "# \"Lift\" initial conditions\n",
    "Ok = MX.sym('O0', K*K+K*M+K)\n",
    "w += [Ok]\n",
    "lbw += O0\n",
    "ubw += O0\n",
    "w0 += O0\n",
    "avg_r=0.7\n",
    "p0=np.ones(K)*avg_r\n"
   ]
  },
  {
   "cell_type": "code",
   "execution_count": 35,
   "id": "744ddb27-28fa-4526-980a-3e28a882334b",
   "metadata": {},
   "outputs": [],
   "source": [
    "# Formulate the NLP\n",
    "\n",
    "\n",
    "for k in range(N_control):\n",
    "    # New NLP variable for the control\n",
    "    Uk = MX.sym('U_' + str(k),1)\n",
    "    w += [Uk]\n",
    "    lbw += [0 for i in range(1)]\n",
    "    ubw +=[ 1 for i in range(1)]\n",
    "    w0 += [avg_r for i in range(1)]\n",
    "    \n",
    "    # Integrate till the end of the interval\n",
    "    Fk = F(x0=Ok, p=Uk)\n",
    "    Ok_end = Fk['xf']\n",
    "\n",
    "    # New NLP variable for state at end of interval\n",
    "    Ok = MX.sym('O_' + str(k+1), K*K+K*M+K)\n",
    "    w   += [Ok]\n",
    "\n",
    "    \n",
    "    \n",
    "    lbw += [0 if i<K*K else -inf for i in range(K*K+K*M+K)]\n",
    "    ubw += [inf for i in range(K*K+K*M+K)]\n",
    "    w0  += O0\n",
    "\n",
    "     # Add equality constraint\n",
    "    g   += [Ok_end-Ok]\n",
    "    lbg += [0 for i in range(K*K+K*M+K)]\n",
    "    ubg += [0 for i in range(K*K+K*M+K)]\n",
    "\n",
    "pf = MX.sym('pf',1)\n",
    "\n",
    "w += [pf]\n",
    "lbw += [0 for i in range(1)]\n",
    "ubw +=[ 1 for i in range(1)]\n",
    "w0 += [avg_r for i in range(1)]\n",
    "\n",
    "\n",
    "Qf, Rf, vf = Ok[:K*K], Ok[K*K:K*K+K*M], Ok[K*K+K*M:]\n",
    "Rf = reshape(Rf, K, M)\n",
    "Qf = reshape(Qf, K, K)\n",
    "J=compute_mse(Qf,Rf,T,vf,vs,pf)"
   ]
  },
  {
   "cell_type": "code",
   "execution_count": 36,
   "id": "3434f451-e394-48aa-b902-3f5c50217922",
   "metadata": {},
   "outputs": [],
   "source": [
    "# Create an NLP solver\n",
    "prob = {'f': J, 'x': vertcat(*w), 'g': vertcat(*g)}\n",
    "solver = nlpsol('solver', 'ipopt', prob)"
   ]
  },
  {
   "cell_type": "code",
   "execution_count": 37,
   "id": "62bea8df-69fa-4f12-9c03-94d5d3733b19",
   "metadata": {},
   "outputs": [
    {
     "name": "stdout",
     "output_type": "stream",
     "text": [
      "This is Ipopt version 3.14.11, running with linear solver MUMPS 5.4.1.\n",
      "\n",
      "Number of nonzeros in equality constraint Jacobian...:     3150\n",
      "Number of nonzeros in inequality constraint Jacobian.:        0\n",
      "Number of nonzeros in Lagrangian Hessian.............:     2241\n",
      "\n",
      "Total number of variables............................:      451\n",
      "                     variables with only lower bounds:      200\n",
      "                variables with lower and upper bounds:       51\n",
      "                     variables with only upper bounds:        0\n",
      "Total number of equality constraints.................:      400\n",
      "Total number of inequality constraints...............:        0\n",
      "        inequality constraints with only lower bounds:        0\n",
      "   inequality constraints with lower and upper bounds:        0\n",
      "        inequality constraints with only upper bounds:        0\n",
      "\n",
      "iter    objective    inf_pr   inf_du lg(mu)  ||d||  lg(rg) alpha_du alpha_pr  ls\n",
      "   0  8.6421932e-02 3.02e-02 9.68e-01  -1.0 0.00e+00    -  0.00e+00 0.00e+00   0\n",
      "   1  6.5984542e-02 1.96e-02 5.06e+00  -1.7 3.47e-01    -  6.76e-02 4.12e-01f  1\n",
      "   2  3.8261301e-02 3.91e-03 9.23e+00  -1.7 4.42e-01    -  1.15e-01 1.00e+00f  1\n",
      "   3  3.2444563e-02 3.39e-04 2.15e+00  -1.7 9.60e-02    -  3.27e-01 1.00e+00f  1\n",
      "   4  2.6369050e-02 1.01e-03 4.31e-01  -1.7 2.35e-01    -  7.27e-01 1.00e+00f  1\n",
      "   5  1.2053140e-02 5.55e-03 3.57e-01  -1.7 6.01e-01    -  9.73e-01 1.00e+00f  1\n",
      "   6  1.1665528e-02 3.46e-03 5.82e-02  -1.7 4.94e-01    -  1.00e+00 8.52e-01f  1\n",
      "   7  1.2898547e-02 9.20e-05 9.95e-03  -2.5 4.95e-02    -  1.00e+00 1.00e+00h  1\n",
      "   8  1.2509008e-02 4.29e-07 2.89e-04  -3.8 4.42e-02    -  1.00e+00 1.00e+00h  1\n",
      "   9  1.2233500e-02 4.71e-05 6.05e-04  -5.7 4.82e-02    -  9.18e-01 1.00e+00h  1\n",
      "iter    objective    inf_pr   inf_du lg(mu)  ||d||  lg(rg) alpha_du alpha_pr  ls\n",
      "  10  1.1875451e-02 2.18e-04 3.22e-05  -5.7 1.08e-01    -  1.00e+00 1.00e+00h  1\n",
      "  11  1.1924312e-02 4.96e-05 1.13e-05  -5.7 4.81e-02    -  1.00e+00 1.00e+00h  1\n",
      "  12  1.1926046e-02 2.94e-06 8.36e-08  -5.7 1.32e-02    -  1.00e+00 1.00e+00h  1\n",
      "  13  1.1899877e-02 2.69e-05 3.25e-06  -8.6 3.70e-02    -  9.63e-01 1.00e+00h  1\n",
      "  14  1.1898825e-02 6.05e-06 1.01e-07  -8.6 1.94e-02    -  1.00e+00 1.00e+00h  1\n",
      "  15  1.1898860e-02 1.24e-06 2.02e-08  -8.6 9.10e-03    -  1.00e+00 1.00e+00h  1\n",
      "  16  1.1898864e-02 2.15e-07 3.76e-09  -8.6 3.80e-03    -  1.00e+00 1.00e+00h  1\n",
      "  17  1.1898865e-02 1.50e-08 2.68e-10  -8.6 1.03e-03    -  1.00e+00 1.00e+00h  1\n",
      "  18  1.1898841e-02 3.25e-09 9.92e-11  -9.0 4.96e-04    -  1.00e+00 1.00e+00h  1\n",
      "\n",
      "Number of Iterations....: 18\n",
      "\n",
      "                                   (scaled)                 (unscaled)\n",
      "Objective...............:   1.1898841314296305e-02    1.1898841314296305e-02\n",
      "Dual infeasibility......:   9.9180601285953292e-11    9.9180601285953292e-11\n",
      "Constraint violation....:   3.2518775172629688e-09    3.2518775172629688e-09\n",
      "Variable bound violation:   0.0000000000000000e+00    0.0000000000000000e+00\n",
      "Complementarity.........:   9.9053933001852211e-10    9.9053933001852211e-10\n",
      "Overall NLP error.......:   3.2518775172629688e-09    3.2518775172629688e-09\n",
      "\n",
      "\n",
      "Number of objective function evaluations             = 19\n",
      "Number of objective gradient evaluations             = 19\n",
      "Number of equality constraint evaluations            = 19\n",
      "Number of inequality constraint evaluations          = 0\n",
      "Number of equality constraint Jacobian evaluations   = 19\n",
      "Number of inequality constraint Jacobian evaluations = 0\n",
      "Number of Lagrangian Hessian evaluations             = 18\n",
      "Total seconds in IPOPT                               = 454.382\n",
      "\n",
      "EXIT: Optimal Solution Found.\n",
      "      solver  :   t_proc      (avg)   t_wall      (avg)    n_eval\n",
      "       nlp_f  |  78.00us (  4.11us)  82.17us (  4.32us)        19\n",
      "       nlp_g  |   1.41 s ( 73.96ms)   1.76 s ( 92.61ms)        19\n",
      "  nlp_grad_f  | 243.00us ( 11.57us) 281.79us ( 13.42us)        21\n",
      "  nlp_hess_l  | 277.16 s ( 15.40 s) 327.30 s ( 18.18 s)        18\n",
      "   nlp_jac_g  | 105.82 s (  5.29 s) 125.24 s (  6.26 s)        20\n",
      "       total  | 384.43 s (384.43 s) 454.39 s (454.39 s)         1\n"
     ]
    }
   ],
   "source": [
    "# Solve the NLP\n",
    "sol = solver(x0=w0, lbx=lbw, ubx=ubw, lbg=lbg, ubg=ubg)\n",
    "w_opt = sol['x'].full().flatten()"
   ]
  },
  {
   "cell_type": "code",
   "execution_count": 38,
   "id": "9489743e-a1aa-4583-9eba-dfedfb2296d3",
   "metadata": {},
   "outputs": [],
   "source": [
    "Q_opt=[w_opt[i:i+K*K]for i in range(0, len(w_opt), K*K+K*M+K+1)]\n",
    "R_opt=[w_opt[i:i+K*M]for i in range(K*K, len(w_opt), K*K+K*M+K+1)]\n",
    "v_opt=[w_opt[i:i+K]for i in range(K*K+K*M, len(w_opt), K*K+K*M+K+1)]\n",
    "r_opt=[w_opt[i:i+1]for i in range(K*K+K*M+K, len(w_opt), K*K+K*M+K+1)]\n",
    "p_opt=r_opt[-1]\n",
    "r_opt=r_opt[:-1]\n",
    "alphas=np.linspace(0,alphaF,N_control+1)\n",
    "\n",
    "\n",
    "\n",
    "Rmatrix=[]\n",
    "Qmatrix=[]\n",
    "for i in range(len(R_opt)):\n",
    "    Rmatrix.append(np.reshape(R_opt[i],(K,M),order='F'))\n",
    "    Qmatrix.append(np.reshape(Q_opt[i],(K,K),order='F'))\n",
    "Qmatrix_s=[]\n",
    "Rmatrix_s=[]\n",
    "Qmatrix_s.append(Qmatrix)\n",
    "Rmatrix_s.append(Rmatrix)\n"
   ]
  },
  {
   "cell_type": "code",
   "execution_count": 39,
   "id": "76fc7e39-c74f-4d17-b90e-fad064809861",
   "metadata": {},
   "outputs": [],
   "source": [
    "Rs=[R0flat]\n",
    "Qs=[Q0flat]\n",
    "v_s=[v0]\n",
    "J_const=[float(compute_mse(reshape(Qs[-1], K, K),reshape(Rs[-1], K, M),T,v_s[-1],vs,0.68))]"
   ]
  },
  {
   "cell_type": "code",
   "execution_count": 40,
   "id": "406cade2-72c9-4a35-b27d-4a7a36e34df7",
   "metadata": {},
   "outputs": [],
   "source": [
    "Js=[]\n",
    "for i in range(len(R_opt)):\n",
    "    Js.append(float(compute_mse(reshape(Q_opt[i], K, K),reshape(R_opt[i], K, M),T,v_s[-1],vs,p_opt)))"
   ]
  },
  {
   "cell_type": "code",
   "execution_count": 41,
   "id": "61fd70d9-0225-47a8-aca8-9cc1e9905a4f",
   "metadata": {},
   "outputs": [
    {
     "data": {
      "text/plain": [
       "Text(0, 0.5, 'Activation rate $p(\\\\alpha)$')"
      ]
     },
     "execution_count": 41,
     "metadata": {},
     "output_type": "execute_result"
    },
    {
     "data": {
      "image/png": "[encoded data removed]",
      "text/plain": [
       "<Figure size 640x480 with 1 Axes>"
      ]
     },
     "metadata": {},
     "output_type": "display_data"
    }
   ],
   "source": [
    "plt.plot(alphas[1:],[0.68 for i in alphas[1:]],linestyle='--',label=\"Optimal constant (p=0.68)\")\n",
    "plt.plot(alphas[1:],[1 for i in alphas[1:]],linestyle=':',label=\"No dropout\")\n",
    "plt.plot(alphas[1:],r_opt,label=\"Optimal schedule\")\n",
    "plt.legend(fontsize=15)\n",
    "plt.xlabel(r\"$\\alpha$\",fontsize=15)\n",
    "plt.ylabel(r\"Activation rate $p(\\alpha)$\",fontsize=15)"
   ]
  }
 ],
 "metadata": {
  "kernelspec": {
   "display_name": "base",
   "language": "python",
   "name": "python3"
  },
  "language_info": {
   "codemirror_mode": {
    "name": "ipython",
    "version": 3
   },
   "file_extension": ".py",
   "mimetype": "text/x-python",
   "name": "python",
   "nbconvert_exporter": "python",
   "pygments_lexer": "ipython3",
   "version": "3.12.2"
  }
 },
 "nbformat": 4,
 "nbformat_minor": 5
}
