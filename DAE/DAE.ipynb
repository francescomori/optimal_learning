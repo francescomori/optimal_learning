{
 "cells": [
  {
   "cell_type": "markdown",
   "id": "5080edd9",
   "metadata": {},
   "source": [
    "# Optimal Denoising Schedule for Denoising Autoencoders\n",
    "This notebook implements the optimal control framework for training a denoising autoencoder, as described in Section 3.3 of the paper *A statistical physics framework for optimal learning*.\n",
    "\n",
    "It uses symbolic expressions and direct optimization (via CasADi) to identify optimal noise schedules that minimize the mean squared reconstruction error at the end of training."
   ]
  },
  {
   "cell_type": "markdown",
   "id": "a5446030",
   "metadata": {},
   "source": [
    "## Imports\n",
    "We import necessary libraries for numerical computation, symbolic optimization (CasADi), and visualization."
   ]
  },
  {
   "cell_type": "code",
   "execution_count": 1,
   "id": "f7cb6444-7ea4-4928-af7e-229a71af4cdf",
   "metadata": {},
   "outputs": [],
   "source": [
    "import numpy as np\n",
    "import casadi\n",
    "from casadi import *\n",
    "import matplotlib.pyplot as plt\n",
    "from numpy.random import normal\n",
    "from tqdm import tqdm"
   ]
  },
  {
   "cell_type": "markdown",
   "id": "c538c362",
   "metadata": {},
   "source": [
    "## Helper Functions for Order Parameter Dynamics and MSE\n",
    "These functions implement analytical expressions for the order parameter evolution and the mean squared error in the denoising autoencoder model. They correspond to the theoretical equations derived in Appendix A.3 of the paper."
   ]
  },
  {
   "cell_type": "code",
   "execution_count": 2,
   "id": "f3dd6c1e-91ee-49a7-8d77-e284ac36d0aa",
   "metadata": {},
   "outputs": [],
   "source": [
    "#Define auxiliary functions for the ODEs\n",
    "\n",
    "def lt_lt(Delta,sigma,Q,M,k,S,b):\n",
    "    return (M[k,:].T@M[k,:])*(1-Delta)+((1-Delta)*sigma**2+Delta)*Q\n",
    "    \n",
    "def lt_lx(Delta,sigma,Q,M,k,S,b):\n",
    "    return (M[k,:].T@M[k,:])*sqrt(1-Delta)+(sqrt(1-Delta)*sigma**2)*Q\n",
    "    \n",
    "def lx_lx(Delta,sigma,Q,M,k,S,b):\n",
    "    return (M[k,:].T@M[k,:])+(sigma**2)*Q\n",
    "    \n",
    "def nut_nut(Delta,sigma,Q,M,k,S,b):\n",
    "    stmp = reshape(S[k,:],K,1)\n",
    "    return (stmp@stmp.T)*(1-Delta)+((1-Delta)*sigma**2+Delta)*S\n",
    "    \n",
    "def lt_nut(Delta,sigma,Q,M,k,S,b): #shape = r x K\n",
    "    stmp= reshape(S[k,:],K,1)\n",
    "    return (M[k,:].T@stmp.T)*(1-Delta)+((1-Delta)*sigma**2+Delta)*M.T\n",
    "    \n",
    "def lt_nux(Delta,sigma,Q,M,k,S,b):  #shape = r x K\n",
    "    stmp= reshape(S[k,:],K,1)\n",
    "    return (M[k,:].T@stmp.T)*sqrt(1-Delta)+(sqrt(1-Delta)*sigma**2)*M.T\n",
    "    \n",
    "def lx_nut(Delta,sigma,Q,M,k,S,b):  #shape = r x K\n",
    "    stmp= reshape(S[k,:],K,1)\n",
    "    return (M[k,:].T@stmp.T)*sqrt(1-Delta)+(sqrt(1-Delta)*sigma**2)*M.T\n",
    "    \n",
    "    \n",
    "def lt_L(Delta,sigma,Q,M,k,S,b):\n",
    "    r,_=Q.size()\n",
    "    return lt_lx(Delta,sigma,Q,M,k,S,b)-lt_lt(Delta,sigma,Q,M,k,S,b)@(b*MX.eye(r)+Q)\n",
    "        \n",
    "def L_L(Delta,sigma,Q,M,k,S,b):\n",
    "    r,_=Q.size()\n",
    "    A=(b*MX.eye(r)+Q)@lt_lx(Delta,sigma,Q,M,k,S,b)\n",
    "    return lx_lx(Delta,sigma,Q,M,k,S,b)-A-A.T+(b*MX.eye(r)+Q)@lt_lt(Delta,sigma,Q,M,k,S,b)@(b*MX.eye(r)+Q)\n",
    "\n",
    "def x_x(Delta,sigma,Q,M,k,S,b):\n",
    "    return sigma**2\n",
    "def xt_xt(Delta,sigma,Q,M,k,S,b):\n",
    "    return (1-Delta)*sigma**2+Delta\n",
    "def x_xt(Delta,sigma,Q,M,k,S,b):\n",
    "    return  sqrt(1-Delta)*sigma**2\n",
    "    \n",
    "def compute_mse(Delta,sigma,Q,M,S,b,cs,N):\n",
    "    K=cs.size()[0]\n",
    "    mse=MX(0)\n",
    "    for k in range(K):\n",
    "        mse+=cs[k]*(trace(Q@lt_lt(Delta,sigma,Q,M,k,S,b))\\\n",
    "            -2*trace(lt_lx(Delta,sigma,Q,M,k,S,b))+2*b*trace(lt_lt(Delta,sigma,Q,M,k,S,b))\\\n",
    "        +b**2*N*((1-Delta)*sigma**2+Delta)-2*b*N*sqrt(1-Delta)*sigma**2+N*sigma**2)\n",
    "    return mse"
   ]
  },
  {
   "cell_type": "markdown",
   "id": "bf331d62",
   "metadata": {},
   "source": [
    "## Model Parameters\n",
    "Set the number of clusters, hidden nodes, and initialize symbolic variables for optimization."
   ]
  },
  {
   "cell_type": "code",
   "execution_count": 3,
   "id": "c3d3bdeb-0c82-4602-a127-46941b3910a4",
   "metadata": {},
   "outputs": [],
   "source": [
    "K=2 #Number of Gaussian clusters (denoted C1 in the paper)\n",
    "r=2 #Number of network hidden nodes (denoted K in the paper)"
   ]
  },
  {
   "cell_type": "code",
   "execution_count": 4,
   "id": "cd79d449-aa5b-453a-828b-d2a1255311aa",
   "metadata": {},
   "outputs": [],
   "source": [
    "Delta = MX.sym('Delta',1)  #Noise level\n",
    "sigma = MX.sym('sigma', 1)  #Variance of the Gaussian clusters\n",
    "Q = MX.sym('Q', r, r)  #Student-student overlap\n",
    "M = MX.sym('M', K, r)  #Student-centroid overlap (denoted R in the paper)\n",
    "S = MX.sym('S', K, K)  #Centroid-centroid overlap dDenoted Omega in the paper)\n",
    "b = MX.sym('b', 1)  #Skip connection\n",
    "cs = MX.sym('cs', K) #Probability of cluster membership (p_c in the paper)\n",
    "N = MX.sym('N', 1) #Input dimension\n",
    "mse_sym = compute_mse(Delta, sigma, Q, M, S, b, cs, N)\n",
    "mse_func = Function('mse_func', [Delta, sigma, Q, M, S, b, cs, N], [mse_sym])"
   ]
  },
  {
   "cell_type": "code",
   "execution_count": 5,
   "id": "3f06df18-56ff-40b9-b178-e9be07f2817d",
   "metadata": {},
   "outputs": [],
   "source": [
    "np.random.seed(195)\n",
    "N=1000\n",
    "T=4 #scaled time T=\\alpha_F \\eta\n",
    "mus=normal(0,1.,size=(K,N))/np.sqrt(N)\n",
    "cs=DM.ones(K)/K\n",
    "sigma=0.1\n",
    "eta=5 #learning rate\n",
    "b0=0.0 #initial condition for the skip connection\n",
    "#Initializations\n",
    "mutmp=np.concatenate((mus,mus),axis=0)\n",
    "weights_0=0.2*mutmp[:r]+normal(0,1/np.sqrt(N),size=(r,N))\n",
    "weights_0=np.array([weights_0[p]*np.sqrt(N)/np.linalg.norm(weights_0[p]) for p in range(r)])/2\n",
    "M0=mus@weights_0.T/np.sqrt(N)\n",
    "Q0=weights_0@weights_0.T/N\n",
    "S=mus@mus.T"
   ]
  },
  {
   "cell_type": "markdown",
   "id": "7365086b",
   "metadata": {},
   "source": [
    "## ODEs \n",
    "Define the ODEs describing the training dynamics"
   ]
  },
  {
   "cell_type": "code",
   "execution_count": 6,
   "id": "93329cad-cb87-4e2b-9cc0-b905a8593325",
   "metadata": {},
   "outputs": [],
   "source": [
    "O = MX.sym('O',r*(r+K)+1) #group dynamical variables\n",
    "M, Q = O[:r*K], O[r*K:-1]\n",
    "M = reshape(M, K, r)\n",
    "Q = reshape(Q, r, r)\n",
    "b = O[-1:]"
   ]
  },
  {
   "cell_type": "code",
   "execution_count": 7,
   "id": "68325b97-665d-4af8-a54e-125b9131eb3d",
   "metadata": {},
   "outputs": [],
   "source": [
    "#define the ODEs\n",
    "dM=MX.zeros(K,r)\n",
    "dQ=MX.zeros(r,r)\n",
    "db=MX.zeros(1,1)\n",
    "for k in range(K):\n",
    "    dMtmp=eta*(lt_nux(Delta,sigma,Q,M,k,S,b).T-2*b*lt_nut(Delta,sigma,Q,M,k,S,b).T-M@lt_lt(Delta,sigma,Q,M,k,S,b)\\\n",
    "               +lx_nut(Delta,sigma,Q,M,k,S,b).T-lt_nut(Delta,sigma,Q,M,k,S,b).T@Q)\n",
    "\n",
    "    dQtmp=(lt_L(Delta,sigma,Q,M,k,S,b)+lt_L(Delta,sigma,Q,M,k,S,b).T)*(2*eta+eta**2*(x_xt(Delta,sigma,Q,M,k,S,b)-b*xt_xt(Delta,sigma,Q,M,k,S,b)))\\\n",
    "            +eta**2*L_L(Delta,sigma,Q,M,k,S,b)*xt_xt(Delta,sigma,Q,M,k,S,b)\\\n",
    "            +eta**2*lt_lt(Delta,sigma,Q,M,k,S,b)*(x_x(Delta,sigma,Q,M,k,S,b)-2*b*x_xt(Delta,sigma,Q,M,k,S,b)+b**2*xt_xt(Delta,sigma,Q,M,k,S,b))  \n",
    "    dM+=cs[k]*dMtmp\n",
    "    dQ+=cs[k]*dQtmp\n",
    "    db+=cs[k]*eta*(sqrt(1-Delta)*sigma**2-b*(1-Delta)*sigma**2-b*Delta)\n",
    "    \n",
    "dQ=0.5*(dQ+dQ.T)\n",
    "\n",
    "# Scaling time with eta\n",
    "dQ/=eta\n",
    "dM/=eta\n",
    "db/=eta"
   ]
  },
  {
   "cell_type": "code",
   "execution_count": 8,
   "id": "08ec25c6-6b66-46e4-a066-69b1617484d2",
   "metadata": {},
   "outputs": [],
   "source": [
    "dM_flat = reshape(dM, K * r, 1)  # Column-major order (column by column)\n",
    "dQ_flat = reshape(dQ, r * r, 1)  # Column-major order (column by column)\n",
    "\n",
    "# Concatenate M_flat and Q_flat into a single vector\n",
    "xdot = vertcat(dM_flat, dQ_flat, db)"
   ]
  },
  {
   "cell_type": "markdown",
   "id": "7b46d265",
   "metadata": {},
   "source": [
    "## NLP \n",
    "Map the control problem into an NLP via a multiple-shooting method."
   ]
  },
  {
   "cell_type": "code",
   "execution_count": 9,
   "id": "1b9d5cdf-dc07-4b49-a031-d48e35025f7c",
   "metadata": {},
   "outputs": [],
   "source": [
    "dT_control = 0.01\n",
    "N_control = int(T//dT_control) # number of control intervals\n",
    "L=MX(0)\n",
    "alphas=np.linspace(0,T/eta,N_control+1)"
   ]
  },
  {
   "cell_type": "code",
   "execution_count": 10,
   "id": "376e6275-56c9-44b1-a62b-1a3417636c31",
   "metadata": {},
   "outputs": [],
   "source": [
    "dae = {'x':O, 'p':Delta, 'ode':xdot, 'quad':L}\n",
    "F = integrator('F', 'cvodes', dae, 0, T/N_control)"
   ]
  },
  {
   "cell_type": "code",
   "execution_count": 11,
   "id": "b367eb11-b38e-47b0-bf66-0f5b5cef947f",
   "metadata": {},
   "outputs": [],
   "source": [
    "# Define initial condition\n",
    "Q0flat=Q0.flatten(order='F')\n",
    "M0flat=M0.flatten(order='F')\n",
    "O0=np.concatenate((M0flat, Q0flat,[b0])).tolist()"
   ]
  },
  {
   "cell_type": "code",
   "execution_count": 12,
   "id": "0003ee24-9e71-40d6-bd2b-354396ca7c98",
   "metadata": {},
   "outputs": [],
   "source": [
    "# Start with an empty NLP\n",
    "w=[]\n",
    "w0 = []\n",
    "lbw = []\n",
    "ubw = []\n",
    "J = 0\n",
    "g=[]\n",
    "lbg = []\n",
    "ubg = []"
   ]
  },
  {
   "cell_type": "code",
   "execution_count": 13,
   "id": "2c1a29c0-12c7-4398-9274-7cbfbb7da48c",
   "metadata": {},
   "outputs": [],
   "source": [
    "# \"Lift\" initial conditions\n",
    "Ok = MX.sym('O0', r*K+r*r+1)\n",
    "w += [Ok]\n",
    "lbw += O0\n",
    "ubw += O0\n",
    "w0 += O0\n",
    "Delta0=0.01\n",
    "Otmp=O0"
   ]
  },
  {
   "cell_type": "code",
   "execution_count": 14,
   "id": "33861913-7c47-4302-85fb-397d7da5d1eb",
   "metadata": {},
   "outputs": [],
   "source": [
    "# Formulate the NLP\n",
    "for k in range(N_control):\n",
    "    # New NLP variable for the control\n",
    "    Uk = MX.sym('U_' + str(k))\n",
    "    w += [Uk]\n",
    "    lbw += [0.01]\n",
    "    ubw += [0.99]\n",
    "    w0 += [Delta0]\n",
    "\n",
    "    # Integrate till the end of the interval\n",
    "    Fk = F(x0=Ok, p=Uk)\n",
    "    Ok_end = Fk['xf']\n",
    "\n",
    "    Otmp = F(x0=Otmp,p=Delta0)['xf']\n",
    "    \n",
    "    # New NLP variable for state at end of interval\n",
    "    Ok = MX.sym('O_' + str(k+1), r*(r+K)+1)\n",
    "    w   += [Ok]\n",
    "\n",
    "    \n",
    "    \n",
    "    lbw +=  [0 if (K+r<=i and i<(K+r)*r) else -inf for i in range(r*(r+K)+1)]\n",
    "    ubw += [inf for i in range(r*(r+K)+1)]\n",
    "    w0 += Otmp.toarray().squeeze().tolist()\n",
    "\n",
    "     # Add equality constraint\n",
    "    g   += [Ok_end-Ok]\n",
    "    lbg += [0 for i in range(r*(r+K)+1)]\n",
    "    ubg += [0 for i in range(r*(r+K)+1)]\n",
    "\n",
    "\n",
    "\n",
    "Mf, Qf = Ok[:r*K], Ok[r*K:-1]\n",
    "Mf = reshape(Mf, K, r)\n",
    "Qf = reshape(Qf, r, r)\n",
    "bf=Ok[-1]"
   ]
  },
  {
   "cell_type": "markdown",
   "id": "dd28a381",
   "metadata": {},
   "source": [
    "## Optimization \n",
    "Identify the optimal noise schedules for different values of the test noise $\\Delta_F$"
   ]
  },
  {
   "cell_type": "code",
   "execution_count": 15,
   "id": "f0ff704d-7e8b-4698-ae11-46528f57c277",
   "metadata": {},
   "outputs": [],
   "source": [
    "opt_list={\"Deltaf\":[], \"M_opt\":[], \"Q_opt\":[], \"b_opt\":[], \"Delta_opt\":[], \"J_opt\":[]}"
   ]
  },
  {
   "cell_type": "code",
   "execution_count": 16,
   "id": "2e9471d0-c005-446d-b649-0ac20f30acd3",
   "metadata": {},
   "outputs": [],
   "source": [
    "const_list={\"Deltaf\":[], \"M\":[], \"Q\":[], \"b\":[], \"J_const\":[]}"
   ]
  },
  {
   "cell_type": "code",
   "execution_count": 17,
   "id": "8a16d684-bfe1-48d5-95d3-90498be539ed",
   "metadata": {},
   "outputs": [],
   "source": [
    "Deltas=[0.1,0.3]"
   ]
  },
  {
   "cell_type": "code",
   "execution_count": 18,
   "id": "c7064dd2-9ef7-456f-9a20-654b060518c0",
   "metadata": {},
   "outputs": [
    {
     "name": "stdout",
     "output_type": "stream",
     "text": [
      "\n",
      "\n",
      "Solving for $\\Delta_F=$0.1...\n",
      "\n",
      "\n",
      "\n",
      "******************************************************************************\n",
      "This program contains Ipopt, a library for large-scale nonlinear optimization.\n",
      " Ipopt is released as open source code under the Eclipse Public License (EPL).\n",
      "         For more information visit https://github.com/coin-or/Ipopt\n",
      "******************************************************************************\n",
      "\n",
      "This is Ipopt version 3.14.11, running with linear solver MUMPS 5.4.1.\n",
      "\n",
      "Number of nonzeros in equality constraint Jacobian...:    36236\n",
      "Number of nonzeros in inequality constraint Jacobian.:        0\n",
      "Number of nonzeros in Lagrangian Hessian.............:    21927\n",
      "\n",
      "Total number of variables............................:     3990\n",
      "                     variables with only lower bounds:     1596\n",
      "                variables with lower and upper bounds:      399\n",
      "                     variables with only upper bounds:        0\n",
      "Total number of equality constraints.................:     3591\n",
      "Total number of inequality constraints...............:        0\n",
      "        inequality constraints with only lower bounds:        0\n",
      "   inequality constraints with lower and upper bounds:        0\n",
      "        inequality constraints with only upper bounds:        0\n",
      "\n",
      "iter    objective    inf_pr   inf_du lg(mu)  ||d||  lg(rg) alpha_du alpha_pr  ls\n",
      "   0  8.7939225e+00 7.07e-03 9.04e-01  -1.0 0.00e+00    -  0.00e+00 0.00e+00   0\n",
      "   1  8.8131959e+00 1.38e-05 7.65e-02  -1.7 4.91e-02    -  1.00e+00 1.00e+00f  1\n",
      "   2  8.8326099e+00 1.39e-04 4.46e-02  -2.5 5.14e-02    -  1.00e+00 1.00e+00f  1\n",
      "   3  9.0774286e+00 1.21e-03 3.88e-02  -2.5 2.62e-01    -  1.00e+00 1.00e+00f  1\n",
      "   4  9.0063991e+00 1.31e-04 3.51e-03  -2.5 1.10e-01    -  1.00e+00 1.00e+00h  1\n",
      "   5  8.9085010e+00 2.32e-04 5.61e-02  -3.8 9.67e-02    -  9.37e-01 1.00e+00h  1\n",
      "   6  8.8454600e+00 9.13e-05 3.99e-03  -3.8 8.35e-02    -  1.00e+00 1.00e+00h  1\n",
      "   7  8.8296362e+00 1.31e-05 2.62e-04  -3.8 3.07e-02    -  1.00e+00 1.00e+00h  1\n",
      "   8  8.8050965e+00 2.78e-05 1.86e-03  -5.7 4.53e-02    -  9.44e-01 1.00e+00h  1\n",
      "   9  8.7958727e+00 7.64e-06 1.51e-04  -5.7 4.89e-02    -  1.00e+00 1.00e+00h  1\n",
      "iter    objective    inf_pr   inf_du lg(mu)  ||d||  lg(rg) alpha_du alpha_pr  ls\n",
      "  10  8.7946395e+00 1.32e-06 1.37e-05  -5.7 1.64e-02    -  1.00e+00 1.00e+00h  1\n",
      "  11  8.7939044e+00 5.73e-07 5.43e-06  -8.6 8.02e-03    -  9.93e-01 1.00e+00h  1\n",
      "  12  8.7938735e+00 1.30e-07 3.09e-06  -8.6 1.56e-03    -  9.83e-01 1.00e+00h  1\n",
      "  13  8.7938720e+00 2.41e-08 8.51e-08  -8.6 8.25e-04    -  1.00e+00 1.00e+00h  1\n",
      "  14  8.7938719e+00 3.75e-09 2.26e-08  -8.6 4.24e-04    -  1.00e+00 1.00e+00h  1\n",
      "  15  8.7938713e+00 1.90e-09 5.99e-09  -9.0 2.17e-04    -  1.00e+00 1.00e+00h  1\n",
      "\n",
      "Number of Iterations....: 15\n",
      "\n",
      "                                   (scaled)                 (unscaled)\n",
      "Objective...............:   8.7938712659483542e+00    8.7938712659483542e+00\n",
      "Dual infeasibility......:   5.9852288338219508e-09    5.9852288338219508e-09\n",
      "Constraint violation....:   1.8985015781680659e-09    1.8985015781680659e-09\n",
      "Variable bound violation:   0.0000000000000000e+00    0.0000000000000000e+00\n",
      "Complementarity.........:   4.7750077788101942e-09    4.7750077788101942e-09\n",
      "Overall NLP error.......:   5.9852288338219508e-09    5.9852288338219508e-09\n",
      "\n",
      "\n",
      "Number of objective function evaluations             = 16\n",
      "Number of objective gradient evaluations             = 16\n",
      "Number of equality constraint evaluations            = 16\n",
      "Number of inequality constraint evaluations          = 0\n",
      "Number of equality constraint Jacobian evaluations   = 16\n",
      "Number of inequality constraint Jacobian evaluations = 0\n",
      "Number of Lagrangian Hessian evaluations             = 15\n",
      "Total seconds in IPOPT                               = 133.531\n",
      "\n",
      "EXIT: Optimal Solution Found.\n",
      "      solver  :   t_proc      (avg)   t_wall      (avg)    n_eval\n",
      "       nlp_f  |  72.00us (  4.50us)  67.38us (  4.21us)        16\n",
      "       nlp_g  |   1.79 s (111.72ms)   1.82 s (114.06ms)        16\n",
      "  nlp_grad_f  | 448.00us ( 24.89us) 447.87us ( 24.88us)        18\n",
      "  nlp_hess_l  |  93.97 s (  6.26 s)  94.67 s (  6.31 s)        15\n",
      "   nlp_jac_g  |  36.41 s (  2.14 s)  36.93 s (  2.17 s)        17\n",
      "       total  | 132.27 s (132.27 s) 133.53 s (133.53 s)         1\n",
      "\n",
      "\n",
      "Solving for $\\Delta_F=$0.3...\n",
      "\n",
      "\n",
      "This is Ipopt version 3.14.11, running with linear solver MUMPS 5.4.1.\n",
      "\n",
      "Number of nonzeros in equality constraint Jacobian...:    36236\n",
      "Number of nonzeros in inequality constraint Jacobian.:        0\n",
      "Number of nonzeros in Lagrangian Hessian.............:    21927\n",
      "\n",
      "Total number of variables............................:     3990\n",
      "                     variables with only lower bounds:     1596\n",
      "                variables with lower and upper bounds:      399\n",
      "                     variables with only upper bounds:        0\n",
      "Total number of equality constraints.................:     3591\n",
      "Total number of inequality constraints...............:        0\n",
      "        inequality constraints with only lower bounds:        0\n",
      "   inequality constraints with lower and upper bounds:        0\n",
      "        inequality constraints with only upper bounds:        0\n",
      "\n",
      "iter    objective    inf_pr   inf_du lg(mu)  ||d||  lg(rg) alpha_du alpha_pr  ls\n",
      "   0  9.5538530e+00 7.07e-03 9.05e-01  -1.0 0.00e+00    -  0.00e+00 0.00e+00   0\n",
      "   1  9.4992510e+00 1.44e-05 7.71e-02  -1.7 4.92e-02    -  1.00e+00 1.00e+00f  1\n",
      "   2  9.4591893e+00 4.61e-04 3.00e-01  -2.5 9.74e-02    -  8.68e-01 1.00e+00f  1\n",
      "   3  9.4254001e+00 3.14e-03 2.53e-02  -2.5 3.28e-01    -  1.00e+00 1.00e+00f  1\n",
      "   4  9.4562062e+00 2.79e-04 1.44e-01  -3.8 1.27e-01    -  8.46e-01 1.00e+00h  1\n",
      "   5  9.4400173e+00 1.82e-04 9.93e-04  -3.8 9.01e-02    -  1.00e+00 1.00e+00h  1\n",
      "   6  9.4357094e+00 9.18e-05 1.18e-02  -5.7 5.99e-02    -  7.84e-01 1.00e+00h  1\n",
      "   7  9.4308610e+00 1.84e-04 5.94e-03  -5.7 2.55e-01    -  4.39e-01 1.00e+00h  1\n",
      "   8  9.4248222e+00 3.17e-04 4.46e-03  -5.7 5.46e-01    -  3.45e-01 1.00e+00h  1\n",
      "   9  9.4267934e+00 1.13e-05 4.33e-04  -5.7 8.98e-02    -  8.90e-01 1.00e+00h  1\n",
      "iter    objective    inf_pr   inf_du lg(mu)  ||d||  lg(rg) alpha_du alpha_pr  ls\n",
      "  10  9.4269783e+00 7.37e-07 1.95e-06  -5.7 1.63e-02    -  1.00e+00 1.00e+00h  1\n",
      "  11  9.4268693e+00 3.70e-06 3.68e-05  -8.6 3.49e-02    -  9.55e-01 1.00e+00h  1\n",
      "  12  9.4268981e+00 1.43e-07 2.18e-06  -8.6 6.09e-03    -  9.95e-01 1.00e+00h  1\n",
      "  13  9.4269001e+00 2.40e-08 3.27e-07  -8.6 2.92e-03    -  1.00e+00 1.00e+00h  1\n",
      "  14  9.4269004e+00 2.44e-09 4.22e-08  -8.6 1.20e-03    -  1.00e+00 1.00e+00h  1\n",
      "  15  9.4269005e+00 1.95e-10 2.29e-09  -8.6 3.10e-04    -  1.00e+00 1.00e+00h  1\n",
      "\n",
      "Number of Iterations....: 15\n",
      "\n",
      "                                   (scaled)                 (unscaled)\n",
      "Objective...............:   9.4269004806309020e+00    9.4269004806309020e+00\n",
      "Dual infeasibility......:   2.2884228938541708e-09    2.2884228938541708e-09\n",
      "Constraint violation....:   1.9527923722506557e-10    1.9527923722506557e-10\n",
      "Variable bound violation:   0.0000000000000000e+00    0.0000000000000000e+00\n",
      "Complementarity.........:   2.8302438482857512e-09    2.8302438482857512e-09\n",
      "Overall NLP error.......:   2.8302438482857512e-09    2.8302438482857512e-09\n",
      "\n",
      "\n",
      "Number of objective function evaluations             = 16\n",
      "Number of objective gradient evaluations             = 16\n",
      "Number of equality constraint evaluations            = 16\n",
      "Number of inequality constraint evaluations          = 0\n",
      "Number of equality constraint Jacobian evaluations   = 16\n",
      "Number of inequality constraint Jacobian evaluations = 0\n",
      "Number of Lagrangian Hessian evaluations             = 15\n",
      "Total seconds in IPOPT                               = 127.069\n",
      "\n",
      "EXIT: Optimal Solution Found.\n",
      "      solver  :   t_proc      (avg)   t_wall      (avg)    n_eval\n",
      "       nlp_f  |  88.00us (  5.50us)  82.92us (  5.18us)        16\n",
      "       nlp_g  |   1.77 s (110.35ms)   1.77 s (110.79ms)        16\n",
      "  nlp_grad_f  | 440.00us ( 24.44us) 388.67us ( 21.59us)        18\n",
      "  nlp_hess_l  |  90.03 s (  6.00 s)  90.36 s (  6.02 s)        15\n",
      "   nlp_jac_g  |  34.71 s (  2.04 s)  34.84 s (  2.05 s)        17\n",
      "       total  | 126.60 s (126.60 s) 127.07 s (127.07 s)         1\n"
     ]
    }
   ],
   "source": [
    "for Deltaf in Deltas:\n",
    "    opt_list[\"Deltaf\"].append(Deltaf)\n",
    "    J=compute_mse(Deltaf,sigma,Qf,Mf,S,bf,cs,N)\n",
    "    # Create an NLP solver\n",
    "    prob = {'f': J, 'x': vertcat(*w), 'g': vertcat(*g)}\n",
    "    solver = nlpsol('solver', 'ipopt', prob)\n",
    "    # Solve the NLP\n",
    "    print(\"\\n\\nSolving for $\\\\Delta_F=${}...\\n\\n\".format(Deltaf))\n",
    "    sol = solver(x0=w0, lbx=lbw, ubx=ubw, lbg=lbg, ubg=ubg)\n",
    "    w_opt = sol['x'].full().flatten()\n",
    "\n",
    "    #Optimal order parameters\n",
    "    M_opt=[w_opt[i:i+K*r]for i in range(0, len(w_opt), K*r+r*r+2)]\n",
    "    Q_opt=[w_opt[i:i+r*r]for i in range(K*r, len(w_opt), K*r+r*r+2)]\n",
    "    b_opt=[w_opt[i]for i in range(K*(K+r), len(w_opt), K*r+r*r+2)]\n",
    "    Delta_opt=[w_opt[i]for i in range(K*(K+r)+1, len(w_opt), K*r+r*r+2)]\n",
    "\n",
    "    Jsopt=[]\n",
    "    for i in range(len(b_opt)):\n",
    "        Jsopt.append(mse_func(Deltaf,sigma,np.reshape(Q_opt[i],(r,r),order='F'),np.reshape(M_opt[i],(K,r),order='F'),S,b_opt[i],cs,N).full()[0][0])\n",
    "\n",
    "    opt_list[\"M_opt\"].append(M_opt)\n",
    "    opt_list[\"Q_opt\"].append(Q_opt)\n",
    "    opt_list[\"b_opt\"].append(b_opt)\n",
    "    opt_list[\"Delta_opt\"].append(Delta_opt)\n",
    "    opt_list[\"J_opt\"].append(Jsopt)"
   ]
  },
  {
   "cell_type": "markdown",
   "id": "9dfd73b4",
   "metadata": {},
   "source": [
    "## Constant noise schedules \n",
    "Evaluate the performance of the constant-noise schedule $\\Delta=\\Delta_F$"
   ]
  },
  {
   "cell_type": "code",
   "execution_count": 19,
   "id": "ab936982-a80f-47c9-81c7-524ff624f810",
   "metadata": {},
   "outputs": [],
   "source": [
    "for Deltaf in Deltas:\n",
    "    O0=np.concatenate((M0flat, Q0flat,[b0])).tolist()\n",
    "    Ms=[M0flat]\n",
    "    Qs=[Q0flat]\n",
    "    bs=[b0]\n",
    "    J_const=[float(compute_mse(Deltaf,sigma,reshape(Qs[-1], r, r),reshape(Ms[-1], K, r),S,bs[-1],cs,N))]\n",
    "    \n",
    "    O_variable=np.concatenate((M0flat, Q0flat,[b0])).tolist()\n",
    "    \n",
    "    for j in range(N_control):\n",
    "        Fk = F(x0=O_variable,p=Deltaf)\n",
    "        O_variable=Fk['xf']\n",
    "        M_append=np.array(O_variable[:r*K])\n",
    "        Ms.append([o[0] for o in M_append])\n",
    "        Q_append=np.array(O_variable[r*K:-1])\n",
    "        Qs.append([o[0] for o in Q_append])\n",
    "        bs.append(float(O_variable[-1]))\n",
    "        J_const.append(float(compute_mse(Deltaf,sigma,reshape(Qs[-1], r, r),reshape(Ms[-1], K, r),S,bs[-1],cs,N)))\n",
    "    \n",
    "    const_list[\"J_const\"].append(J_const)\n",
    "    const_list[\"M\"].append(Ms)\n",
    "    const_list[\"Q\"].append(Qs)\n",
    "    const_list[\"b\"].append(bs)\n",
    "    const_list[\"Deltaf\"].append(Deltaf)"
   ]
  },
  {
   "cell_type": "markdown",
   "id": "9b381536",
   "metadata": {},
   "source": [
    "## Plotting the Optimal Schedule\n",
    "We visualize the MSE obtained for the constant and optimal training schedules."
   ]
  },
  {
   "cell_type": "code",
   "execution_count": 20,
   "id": "1248f624-3507-4731-a9ab-589753933391",
   "metadata": {},
   "outputs": [],
   "source": [
    "colors = [\n",
    "    \"#E69F00\",  # orange\n",
    "    \"#0072B2\",  # blue\n",
    "    \"#009E73\",  # green\n",
    "    # \"#F0E442\",  # yellow\n",
    "    \"#D55E00\",  # red/orange (vermillion)\n",
    "    \"#CC79A7\",  # pink/purple\n",
    "    \"#999999\",  # grey (neutral tone)\n",
    "    \"navy\"\n",
    "]\n",
    "markers=['o','X','s','D','^','<','v']"
   ]
  },
  {
   "cell_type": "code",
   "execution_count": 21,
   "id": "2f70cc64-ede7-437f-9771-57d867242b85",
   "metadata": {},
   "outputs": [
    {
     "data": {
      "image/png": "[encoded data removed]",
      "text/plain": [
       "<Figure size 640x480 with 1 Axes>"
      ]
     },
     "metadata": {},
     "output_type": "display_data"
    },
    {
     "data": {
      "image/png": "[encoded data removed]",
      "text/plain": [
       "<Figure size 640x480 with 1 Axes>"
      ]
     },
     "metadata": {},
     "output_type": "display_data"
    }
   ],
   "source": [
    "i=0\n",
    "for Deltaf in Deltas:\n",
    "    plt.figure(i)\n",
    "    indices = [i for i, df in enumerate(opt_list[\"Deltaf\"]) if df == Deltaf]\n",
    "    J_opt_values = [opt_list[\"J_opt\"][i] for i in indices]\n",
    "    J_const_values = [const_list[\"J_const\"][i] for i in indices]\n",
    "    plt.plot(alphas,J_opt_values[0],label=\"Optimal noise schedule\")\n",
    "    plt.plot(alphas,J_const_values[0],label=\"Constant noise $\\\\Delta=\\\\Delta_F$\")\n",
    "    plt.title(\"$\\\\Delta_F=${}\".format(Deltaf),fontsize=17)\n",
    "    \n",
    "    plt.legend(fontsize=15)\n",
    "    plt.xlabel(\"$\\\\alpha$\",fontsize=15)\n",
    "    plt.ylabel(\"MSE\",fontsize=15)\n",
    "    i+=1"
   ]
  }
 ],
 "metadata": {
  "kernelspec": {
   "display_name": "base",
   "language": "python",
   "name": "python3"
  },
  "language_info": {
   "codemirror_mode": {
    "name": "ipython",
    "version": 3
   },
   "file_extension": ".py",
   "mimetype": "text/x-python",
   "name": "python",
   "nbconvert_exporter": "python",
   "pygments_lexer": "ipython3",
   "version": "3.12.2"
  }
 },
 "nbformat": 4,
 "nbformat_minor": 5
}
